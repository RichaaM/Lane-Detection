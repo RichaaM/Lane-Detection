{
  "cells": [
    {
      "cell_type": "code",
      "source": [
        "from google.colab import drive\n",
        "drive.mount('/content/drive')"
      ],
      "metadata": {
        "id": "xhpPNpkX_Wts"
      },
      "execution_count": null,
      "outputs": []
    },
    {
      "cell_type": "code",
      "execution_count": 1,
      "metadata": {
        "colab": {
          "base_uri": "https://localhost:8080/"
        },
        "id": "LZnvHIEq51ic",
        "outputId": "cfb4fd2f-8e68-437a-a404-288f0aad85cd"
      },
      "outputs": [
        {
          "output_type": "stream",
          "name": "stdout",
          "text": [
            "/content/drive/MyDrive\n"
          ]
        }
      ],
      "source": [
        "cd drive/MyDrive/\n"
      ]
    },
    {
      "cell_type": "code",
      "execution_count": 2,
      "metadata": {
        "colab": {
          "base_uri": "https://localhost:8080/"
        },
        "id": "CAjTcxdoTde4",
        "outputId": "9c3ef1da-eece-4643-c2f8-ce3a6be099a9"
      },
      "outputs": [
        {
          "output_type": "stream",
          "name": "stdout",
          "text": [
            "/content/drive/MyDrive/MLND-Capstone-master\n"
          ]
        }
      ],
      "source": [
        "cd MLND-Capstone-master"
      ]
    },
    {
      "cell_type": "code",
      "source": [
        "%matplotlib inline\n",
        "\n",
        "from matplotlib import pyplot as plt\n",
        "import numpy as np\n",
        "import pickle\n",
        "from sklearn.utils import shuffle\n",
        "from sklearn.model_selection import train_test_split\n",
        "\n",
        "# Import necessary items from Keras\n",
        "from keras.models import Sequential\n",
        "from keras.layers import Activation, Dropout, UpSampling2D\n",
        "from keras.layers import Conv2DTranspose, Conv2D, MaxPooling2D,Flatten,Dense\n",
        "from keras.layers import BatchNormalization\n",
        "from keras.preprocessing.image import ImageDataGenerator\n",
        "from keras import regularizers\n",
        "import tensorflow as tf\n",
        "\n"
      ],
      "metadata": {
        "id": "8nn9tTBU2TQl"
      },
      "execution_count": 3,
      "outputs": []
    },
    {
      "cell_type": "code",
      "source": [
        "def create_model(input_shape, pool_size):\n",
        "    # Create the actual neural network here\n",
        "    model = Sequential()\n",
        "    # Normalizes incoming inputs. First layer needs the input shape to work\n",
        "    model.add(BatchNormalization(input_shape=input_shape))\n",
        "\n",
        "    # Below layers were re-named for easier reading of model summary; this not necessary\n",
        "    # Conv Layer 1\n",
        "    model.add(Conv2D(8, (3, 3), padding='valid', strides=(1,1), activation = 'sigmoid', name = 'Conv1'))\n",
        "\n",
        "    # Conv Layer 2\n",
        "    model.add(Conv2D(16, (3, 3), padding='valid', strides=(1,1), activation = 'sigmoid', name = 'Conv2'))\n",
        "\n",
        "    # Pooling 1\n",
        "    model.add(MaxPooling2D(pool_size=pool_size))\n",
        "\n",
        "    # Conv Layer 3\n",
        "    model.add(Conv2D(16, (3, 3), padding='valid', strides=(1,1), activation = 'sigmoid', name = 'Conv3'))\n",
        "    model.add(Dropout(0.2))\n",
        "\n",
        "    # Conv Layer 4\n",
        "    model.add(Conv2D(32, (3, 3), padding='valid', strides=(1,1), activation = 'sigmoid', name = 'Conv4'))\n",
        "    model.add(Dropout(0.2))\n",
        "\n",
        "    # Conv Layer 5\n",
        "    model.add(Conv2D(32, (3, 3), padding='valid', strides=(1,1), activation = 'sigmoid', name = 'Conv5'))\n",
        "    model.add(Dropout(0.2))\n",
        "\n",
        "    # Pooling 2\n",
        "    model.add(MaxPooling2D(pool_size=pool_size))\n",
        "\n",
        "    # Conv Layer 6\n",
        "    model.add(Conv2D(64, (3, 3), padding='valid', strides=(1,1), activation = 'sigmoid', name = 'Conv6'))\n",
        "    model.add(Dropout(0.2))\n",
        "\n",
        "    # Conv Layer 7\n",
        "    model.add(Conv2D(64, (3, 3), padding='valid', strides=(1,1), activation = 'sigmoid', name = 'Conv7'))\n",
        "    model.add(Dropout(0.2))\n",
        "\n",
        "    # Pooling 3\n",
        "    model.add(MaxPooling2D(pool_size=pool_size))\n",
        "\n",
        "    # Upsample 1\n",
        "    model.add(UpSampling2D(size=pool_size))\n",
        "\n",
        "    # Deconv 1\n",
        "    model.add(Conv2DTranspose(64, (3, 3), padding='valid', strides=(1,1), activation = 'sigmoid', name = 'Deconv1'))\n",
        "    model.add(Dropout(0.2))\n",
        "\n",
        "    # Deconv 2\n",
        "    model.add(Conv2DTranspose(64, (3, 3), padding='valid', strides=(1,1), activation = 'sigmoid', name = 'Deconv2'))\n",
        "    model.add(Dropout(0.2))\n",
        "\n",
        "    # Upsample 2\n",
        "    model.add(UpSampling2D(size=pool_size))\n",
        "\n",
        "    # Deconv 3\n",
        "    model.add(Conv2DTranspose(32, (3, 3), padding='valid', strides=(1,1), activation = 'sigmoid', name = 'Deconv3'))\n",
        "    model.add(Dropout(0.2))\n",
        "\n",
        "    # Deconv 4\n",
        "    model.add(Conv2DTranspose(32, (3, 3), padding='valid', strides=(1,1), activation = 'sigmoid', name = 'Deconv4'))\n",
        "    model.add(Dropout(0.2))\n",
        "\n",
        "    # Deconv 5\n",
        "    model.add(Conv2DTranspose(16, (3, 3), padding='valid', strides=(1,1), activation = 'sigmoid', name = 'Deconv5'))\n",
        "    model.add(Dropout(0.2))\n",
        "\n",
        "    # Upsample 3\n",
        "    model.add(UpSampling2D(size=pool_size))\n",
        "\n",
        "    # Deconv 6\n",
        "    model.add(Conv2DTranspose(16, (3, 3), padding='valid', strides=(1,1), activation = 'sigmoid', name = 'Deconv6'))\n",
        "\n",
        "    # Final layer - only including one channel so 1 filter\n",
        "    model.add(Conv2DTranspose(1, (3, 3), padding='valid', strides=(1,1), activation = 'sigmoid', name = 'Final'))\n",
        "\n",
        "    return model"
      ],
      "metadata": {
        "id": "UC2WHNQQ3jsg"
      },
      "execution_count": 11,
      "outputs": []
    },
    {
      "cell_type": "code",
      "source": [
        "def accuracy_plot(history):\n",
        "    plt.plot(history.history['accuracy'])\n",
        "    plt.plot(history.history['val_accuracy'])\n",
        "    plt.title('model accuracy')\n",
        "    plt.ylabel('accuracy')\n",
        "    plt.xlabel('epoch')\n",
        "    plt.legend(['train', 'val'], loc='upper left')\n",
        "    plt.show()"
      ],
      "metadata": {
        "id": "g2YrpHGH4a77"
      },
      "execution_count": 12,
      "outputs": []
    },
    {
      "cell_type": "code",
      "source": [
        "def loss_plot(history):\n",
        "    plt.plot(history.history['loss'])\n",
        "    plt.plot(history.history['val_loss'])\n",
        "    plt.title('model loss')\n",
        "    plt.ylabel('loss')\n",
        "    plt.xlabel('epoch')\n",
        "    plt.legend(['train', 'val'], loc='upper left')\n",
        "    plt.show()\n"
      ],
      "metadata": {
        "id": "ucdRHig_ForT"
      },
      "execution_count": 13,
      "outputs": []
    },
    {
      "cell_type": "code",
      "source": [
        "def train_model():\n",
        "    # Load training images\n",
        "    train_images = pickle.load(open(\"/content/drive/MyDrive/MLND-Capstone-master/full_CNN_train.p\", \"rb\" ))\n",
        "\n",
        "    # Load image labels\n",
        "    labels = pickle.load(open(\"/content/drive/MyDrive/MLND-Capstone-master/full_CNN_labels.p\", \"rb\" ))\n",
        "    \n",
        "    train_images = np.array(train_images)\n",
        "    labels = np.array(labels)\n",
        "\n",
        "    # Normalize labels - training images get normalized to start in the network\n",
        "    labels = labels / 255\n",
        "    #Splitting into train,validation and test dataset\n",
        "    train_images, labels = shuffle(train_images, labels)\n",
        "    X_train, X_val, y_train, y_val = train_test_split(train_images, labels, test_size=0.1)\n",
        "    X_train, X_test, y_train, y_test= train_test_split(X_train, y_train, test_size=0.05)\n",
        "    print(\"Total Number of images: \",len(X_train)+len(X_val)+len(X_test))\n",
        "    print(\"Number of training images: \",len(X_train))\n",
        "    print(\"Number of Validation images: \",len(X_val))\n",
        "    print(\"Number of test images: \",len(X_test))\n",
        "\n",
        "    # Batch size, epochs and pool size below are all paramaters\n",
        "    batch_size = 128\n",
        "    epochs = 10\n",
        "    pool_size = (2, 2)\n",
        "    input_shape = X_train.shape[1:]\n",
        "\n",
        "    # Create the neural network\n",
        "    model = create_model(input_shape, pool_size)\n",
        "    print(model)\n",
        "    # Using a generator to help the model use less data but is not used \n",
        "    datagen = ImageDataGenerator(channel_shift_range=0.2)\n",
        "    datagen.fit(X_train)\n",
        "\n",
        "    # Compiling and training the model\n",
        "    model.compile(optimizer='Adam', loss='mean_squared_error', metrics=['accuracy'])\n",
        "\n",
        "    #running with CUDA (remove the with loop to run on CPU)\n",
        "    with tf.device('/gpu:0'):\n",
        "\n",
        "      history = model.fit(datagen.flow(X_train, y_train, batch_size=batch_size), steps_per_epoch=len(X_train)/batch_size,\n",
        "      epochs=epochs, verbose=1, validation_data=(X_val, y_val))\n",
        "    \n",
        "    #calling the plotting tools for visualizing training and evaluation parameters\n",
        "    loss_plot(history)\n",
        "    accuracy_plot(history)\n",
        "\n",
        "    #this is used to freeze the model with given params\n",
        "    model.trainable = False\n",
        "    model.compile(optimizer='Adam', loss='mean_squared_error')\n",
        "\n",
        "    # Save model architecture and weights\n",
        "    model.save('full_CNN_model.h5')\n",
        "    return model,X_test,y_test\n",
        " \n",
        "\n",
        "\n",
        "\n",
        " "
      ],
      "metadata": {
        "id": "EiXM0JFm3tTy"
      },
      "execution_count": 14,
      "outputs": []
    },
    {
      "cell_type": "code",
      "source": [
        "def testing_model(model,X_test,y_test):\n",
        "  results = model.evaluate(X_test, y_test, batch_size=128)\n",
        "  print(\"test loss, test acc:\", results)"
      ],
      "metadata": {
        "id": "dXmJLR1GySo7"
      },
      "execution_count": 15,
      "outputs": []
    },
    {
      "cell_type": "code",
      "source": [
        "if __name__ == '__main__':\n",
        "    trained_model,X_test,y_test = train_model()\n",
        "    testing_model(trained_model,X_test,y_test)\n",
        "\n"
      ],
      "metadata": {
        "colab": {
          "base_uri": "https://localhost:8080/",
          "height": 1000
        },
        "id": "z1qIIjXA3wSM",
        "outputId": "62f51981-424f-4083-9b87-726873ddf702"
      },
      "execution_count": 16,
      "outputs": [
        {
          "output_type": "stream",
          "name": "stdout",
          "text": [
            "Total Number of images:  12764\n",
            "Number of training images:  10912\n",
            "Number of Validation images:  1277\n",
            "Number of test images:  575\n",
            "<keras.engine.sequential.Sequential object at 0x7f8e6e2db3d0>\n",
            "Epoch 1/10\n",
            "85/85 [==============================] - 31s 336ms/step - loss: 0.0933 - accuracy: 0.8427 - val_loss: 0.0695 - val_accuracy: 0.8674\n",
            "Epoch 2/10\n",
            "85/85 [==============================] - 28s 329ms/step - loss: 0.0651 - accuracy: 0.8793 - val_loss: 0.0611 - val_accuracy: 0.8917\n",
            "Epoch 3/10\n",
            "85/85 [==============================] - 28s 328ms/step - loss: 0.0572 - accuracy: 0.8929 - val_loss: 0.0536 - val_accuracy: 0.9002\n",
            "Epoch 4/10\n",
            "85/85 [==============================] - 28s 328ms/step - loss: 0.0541 - accuracy: 0.8962 - val_loss: 0.0525 - val_accuracy: 0.9000\n",
            "Epoch 5/10\n",
            "85/85 [==============================] - 28s 328ms/step - loss: 0.0524 - accuracy: 0.8983 - val_loss: 0.0513 - val_accuracy: 0.9007\n",
            "Epoch 6/10\n",
            "85/85 [==============================] - 28s 328ms/step - loss: 0.0515 - accuracy: 0.8996 - val_loss: 0.0506 - val_accuracy: 0.9010\n",
            "Epoch 7/10\n",
            "85/85 [==============================] - 28s 328ms/step - loss: 0.0509 - accuracy: 0.9005 - val_loss: 0.0502 - val_accuracy: 0.9017\n",
            "Epoch 8/10\n",
            "85/85 [==============================] - 28s 328ms/step - loss: 0.0505 - accuracy: 0.9010 - val_loss: 0.0500 - val_accuracy: 0.9017\n",
            "Epoch 9/10\n",
            "85/85 [==============================] - 28s 328ms/step - loss: 0.0503 - accuracy: 0.9013 - val_loss: 0.0498 - val_accuracy: 0.9018\n",
            "Epoch 10/10\n",
            "85/85 [==============================] - 28s 328ms/step - loss: 0.0500 - accuracy: 0.9015 - val_loss: 0.0497 - val_accuracy: 0.9017\n"
          ]
        },
        {
          "output_type": "display_data",
          "data": {
            "text/plain": [
              "<Figure size 432x288 with 1 Axes>"
            ],
            "image/png": "[encoded data removed]"
          },
          "metadata": {
            "needs_background": "light"
          }
        },
        {
          "output_type": "display_data",
          "data": {
            "text/plain": [
              "<Figure size 432x288 with 1 Axes>"
            ],
            "image/png": "[encoded data removed]"
          },
          "metadata": {
            "needs_background": "light"
          }
        },
        {
          "output_type": "stream",
          "name": "stdout",
          "text": [
            "5/5 [==============================] - 1s 93ms/step - loss: 0.0498\n",
            "test loss, test acc: 0.04980406165122986\n"
          ]
        }
      ]
    }
  ],
  "metadata": {
    "accelerator": "GPU",
    "colab": {
      "name": "Lane_detection.ipynb",
      "provenance": [],
      "collapsed_sections": []
    },
    "kernelspec": {
      "display_name": "Python 3",
      "name": "python3"
    },
    "language_info": {
      "name": "python"
    }
  },
  "nbformat": 4,
  "nbformat_minor": 0
}